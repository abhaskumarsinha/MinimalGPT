{
 "cells": [
  {
   "cell_type": "code",
   "execution_count": 1,
   "id": "04c725fb",
   "metadata": {},
   "outputs": [],
   "source": [
    "import pandas as pd\n",
    "import numpy as np\n",
    "from MinimalGPT import MinimalGPT"
   ]
  },
  {
   "cell_type": "code",
   "execution_count": 2,
   "id": "4bed3bd1",
   "metadata": {},
   "outputs": [
    {
     "name": "stdout",
     "output_type": "stream",
     "text": [
      "(None, 10, 128)\n"
     ]
    },
    {
     "name": "stderr",
     "output_type": "stream",
     "text": [
      "100%|████████████████████████████████████████████████████████████████████████████████| 190/190 [00:06<00:00, 31.25it/s]\n"
     ]
    }
   ],
   "source": [
    "model = MinimalGPT(output_length = 200,\n",
    "                  gpt_input = 10,\n",
    "                  d_model = 128,\n",
    "                  h = 8,\n",
    "                  decoder_stacks = 1,\n",
    "                  load_tokenizer = './models/tokenizer3.mgt',\n",
    "                  load_weights = './models/weights3.mgw',\n",
    "                  inference_only = True,\n",
    "                  return_model_and_vectorizer_and_output = True)"
   ]
  },
  {
   "cell_type": "code",
   "execution_count": 3,
   "id": "4d77e4ea",
   "metadata": {},
   "outputs": [
    {
     "data": {
      "text/plain": [
       "(<keras.engine.functional.Functional at 0x22520c6b190>,\n",
       " <keras.layers.preprocessing.text_vectorization.TextVectorization at 0x22578fe5310>,\n",
       " '         of her own the morning looked at the other of the old place, she had not been careless and their way to her out of the next day’s dinner... or the butcher’s book.... At last even these dim sensations spent themselves in the thickening obscurity which enveloped her; a dusk now filled with pale geometric roses, circling softly, interminably before her, now darkened to a uniform blue-blackness, the hue of a summer night without stars. And into this darkness she felt herself sinking, sinking, with the gentle sense of security of one upheld from beneath. Like a tepid tide it rose around her, gliding ever higher and higher, folding in its velvety embrace her relaxed and tired body, now submerging her breast and shoulders, now creeping gradually, with soft inexorableness, over her throat to her chin, to her ears, to her mouth.... Ah, now it was rising too high; the impulse to struggle was renewed;... ')"
      ]
     },
     "execution_count": 3,
     "metadata": {},
     "output_type": "execute_result"
    }
   ],
   "source": [
    "model"
   ]
  },
  {
   "cell_type": "code",
   "execution_count": 4,
   "id": "620717af",
   "metadata": {},
   "outputs": [
    {
     "name": "stdout",
     "output_type": "stream",
     "text": [
      "Model: \"model\"\n",
      "_________________________________________________________________\n",
      " Layer (type)                Output Shape              Param #   \n",
      "=================================================================\n",
      " input_1 (InputLayer)        [(None, 10)]              0         \n",
      "                                                                 \n",
      " embedding (Embedding)       (None, 10, 128)           1826816   \n",
      "                                                                 \n",
      " positional_embedding (Posit  (None, 10, 128)          0         \n",
      " ionalEmbedding)                                                 \n",
      "                                                                 \n",
      " decoder (Decoder)           (None, 10, 128)           37160     \n",
      "                                                                 \n",
      " flatten (Flatten)           (None, 1280)              0         \n",
      "                                                                 \n",
      " dense (Dense)               (None, 14273)             18283713  \n",
      "                                                                 \n",
      " tf.nn.softmax (TFOpLambda)  (None, 14273)             0         \n",
      "                                                                 \n",
      "=================================================================\n",
      "Total params: 20,147,689\n",
      "Trainable params: 20,147,689\n",
      "Non-trainable params: 0\n",
      "_________________________________________________________________\n"
     ]
    }
   ],
   "source": [
    "model[0].summary()"
   ]
  },
  {
   "cell_type": "code",
   "execution_count": 6,
   "id": "3dba19e2",
   "metadata": {},
   "outputs": [
    {
     "data": {
      "text/plain": [
       "[array([b'ut@@', b'conversation,', b'picturesque', ..., b'mankind',\n",
       "        b'costu@@', b'bott@@'], dtype=object)]"
      ]
     },
     "execution_count": 6,
     "metadata": {},
     "output_type": "execute_result"
    }
   ],
   "source": [
    "model[1].get_weights()"
   ]
  }
 ],
 "metadata": {
  "kernelspec": {
   "display_name": "Python 3 (ipykernel)",
   "language": "python",
   "name": "python3"
  },
  "language_info": {
   "codemirror_mode": {
    "name": "ipython",
    "version": 3
   },
   "file_extension": ".py",
   "mimetype": "text/x-python",
   "name": "python",
   "nbconvert_exporter": "python",
   "pygments_lexer": "ipython3",
   "version": "3.9.5"
  }
 },
 "nbformat": 4,
 "nbformat_minor": 5
}
